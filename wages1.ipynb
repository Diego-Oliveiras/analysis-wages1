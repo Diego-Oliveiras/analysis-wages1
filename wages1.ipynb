{
  "nbformat": 4,
  "nbformat_minor": 0,
  "metadata": {
    "colab": {
      "provenance": [],
      "authorship_tag": "ABX9TyPg97FVvSRygpIuyRSrvfgw",
      "include_colab_link": true
    },
    "kernelspec": {
      "name": "ir",
      "display_name": "R"
    },
    "language_info": {
      "name": "R"
    }
  },
  "cells": [
    {
      "cell_type": "markdown",
      "metadata": {
        "id": "view-in-github",
        "colab_type": "text"
      },
      "source": [
        "<a href=\"https://colab.research.google.com/github/Diego-Oliveiras/analysis-wages1/blob/main/wages1.ipynb\" target=\"_parent\"><img src=\"https://colab.research.google.com/assets/colab-badge.svg\" alt=\"Open In Colab\"/></a>"
      ]
    },
    {
      "cell_type": "code",
      "execution_count": null,
      "metadata": {
        "id": "KOrpIbasv1Ff"
      },
      "outputs": [],
      "source": [
        "install.packages(\"Ecdat\")"
      ]
    },
    {
      "cell_type": "code",
      "source": [
        "library(Ecdat)"
      ],
      "metadata": {
        "id": "fD3eu82yEogI"
      },
      "execution_count": null,
      "outputs": []
    },
    {
      "cell_type": "code",
      "source": [
        "# Amostra do conjunto de dados 40 registros\n",
        "data = head(Wages1,n=40)"
      ],
      "metadata": {
        "id": "gsqvgVmuE0hn"
      },
      "execution_count": 65,
      "outputs": []
    },
    {
      "cell_type": "code",
      "source": [
        "# Arredondamento para 2 casas decimais\n",
        "wageRound = round(data$wage,2)\n",
        "wageRound"
      ],
      "metadata": {
        "colab": {
          "base_uri": "https://localhost:8080/",
          "height": 52
        },
        "id": "LSn-brHYcBLR",
        "outputId": "3c164794-a3af-491d-cec7-365dd9c9244a"
      },
      "execution_count": 66,
      "outputs": [
        {
          "output_type": "display_data",
          "data": {
            "text/html": [
              "<style>\n",
              ".list-inline {list-style: none; margin:0; padding: 0}\n",
              ".list-inline>li {display: inline-block}\n",
              ".list-inline>li:not(:last-child)::after {content: \"\\00b7\"; padding: 0 .5ex}\n",
              "</style>\n",
              "<ol class=list-inline><li>6.32</li><li>5.48</li><li>3.64</li><li>4.59</li><li>2.42</li><li>2.09</li><li>5.51</li><li>3.55</li><li>5.82</li><li>3.83</li><li>6.74</li><li>12.86</li><li>7.66</li><li>2.45</li><li>6.11</li><li>8.27</li><li>1.86</li><li>3.98</li><li>4.76</li><li>6.38</li><li>5.63</li><li>2.49</li><li>1.22</li><li>1.35</li><li>0.75</li><li>11.33</li><li>3.89</li><li>3</li><li>3.27</li><li>1.36</li><li>4.29</li><li>7.62</li><li>4.44</li><li>1.13</li><li>9.06</li><li>3.98</li><li>3.45</li><li>8.1</li><li>8.74</li><li>7.28</li></ol>\n"
            ],
            "text/markdown": "1. 6.32\n2. 5.48\n3. 3.64\n4. 4.59\n5. 2.42\n6. 2.09\n7. 5.51\n8. 3.55\n9. 5.82\n10. 3.83\n11. 6.74\n12. 12.86\n13. 7.66\n14. 2.45\n15. 6.11\n16. 8.27\n17. 1.86\n18. 3.98\n19. 4.76\n20. 6.38\n21. 5.63\n22. 2.49\n23. 1.22\n24. 1.35\n25. 0.75\n26. 11.33\n27. 3.89\n28. 3\n29. 3.27\n30. 1.36\n31. 4.29\n32. 7.62\n33. 4.44\n34. 1.13\n35. 9.06\n36. 3.98\n37. 3.45\n38. 8.1\n39. 8.74\n40. 7.28\n\n\n",
            "text/latex": "\\begin{enumerate*}\n\\item 6.32\n\\item 5.48\n\\item 3.64\n\\item 4.59\n\\item 2.42\n\\item 2.09\n\\item 5.51\n\\item 3.55\n\\item 5.82\n\\item 3.83\n\\item 6.74\n\\item 12.86\n\\item 7.66\n\\item 2.45\n\\item 6.11\n\\item 8.27\n\\item 1.86\n\\item 3.98\n\\item 4.76\n\\item 6.38\n\\item 5.63\n\\item 2.49\n\\item 1.22\n\\item 1.35\n\\item 0.75\n\\item 11.33\n\\item 3.89\n\\item 3\n\\item 3.27\n\\item 1.36\n\\item 4.29\n\\item 7.62\n\\item 4.44\n\\item 1.13\n\\item 9.06\n\\item 3.98\n\\item 3.45\n\\item 8.1\n\\item 8.74\n\\item 7.28\n\\end{enumerate*}\n",
            "text/plain": [
              " [1]  6.32  5.48  3.64  4.59  2.42  2.09  5.51  3.55  5.82  3.83  6.74 12.86\n",
              "[13]  7.66  2.45  6.11  8.27  1.86  3.98  4.76  6.38  5.63  2.49  1.22  1.35\n",
              "[25]  0.75 11.33  3.89  3.00  3.27  1.36  4.29  7.62  4.44  1.13  9.06  3.98\n",
              "[37]  3.45  8.10  8.74  7.28"
            ]
          },
          "metadata": {}
        }
      ]
    },
    {
      "cell_type": "code",
      "source": [
        "# Média de salario por hora\n",
        "wageMean = round(mean(wageRound),2)\n",
        "wageMean"
      ],
      "metadata": {
        "colab": {
          "base_uri": "https://localhost:8080/",
          "height": 34
        },
        "id": "Fsf7ySjdZhL_",
        "outputId": "fc8a61ea-1834-4a6b-adc0-77497479061b"
      },
      "execution_count": 67,
      "outputs": [
        {
          "output_type": "display_data",
          "data": {
            "text/html": [
              "4.92"
            ],
            "text/markdown": "4.92",
            "text/latex": "4.92",
            "text/plain": [
              "[1] 4.92"
            ]
          },
          "metadata": {}
        }
      ]
    },
    {
      "cell_type": "code",
      "source": [
        "# Mediana de salario por hora\n",
        "wageMedian = round(median(wageRound),2)\n",
        "wageMedian"
      ],
      "metadata": {
        "colab": {
          "base_uri": "https://localhost:8080/",
          "height": 34
        },
        "id": "5dUOEYaIaMN3",
        "outputId": "d33195a2-c23f-4d88-a2a9-d8dfb0e3a1ff"
      },
      "execution_count": 68,
      "outputs": [
        {
          "output_type": "display_data",
          "data": {
            "text/html": [
              "4.36"
            ],
            "text/markdown": "4.36",
            "text/latex": "4.36",
            "text/plain": [
              "[1] 4.36"
            ]
          },
          "metadata": {}
        }
      ]
    },
    {
      "cell_type": "code",
      "source": [
        "# Link de como criar a função da moda https://www.tutorialspoint.com/r/r_mean_median_mode.htm\n",
        "\n",
        "getmode <- function(v) {\n",
        "   uniqv <- unique(v)\n",
        "   uniqv[which.max(tabulate(match(v, uniqv)))]\n",
        "}\n",
        "\n",
        "wageMode = getmode(wageRound)\n",
        "wageMode"
      ],
      "metadata": {
        "colab": {
          "base_uri": "https://localhost:8080/",
          "height": 34
        },
        "id": "N890oksOahSX",
        "outputId": "9b94e7a8-bb0c-41f6-a26b-02bef19da601"
      },
      "execution_count": 69,
      "outputs": [
        {
          "output_type": "display_data",
          "data": {
            "text/html": [
              "3.98"
            ],
            "text/markdown": "3.98",
            "text/latex": "3.98",
            "text/plain": [
              "[1] 3.98"
            ]
          },
          "metadata": {}
        }
      ]
    },
    {
      "cell_type": "code",
      "source": [
        "# Medida de dispersão ou variabilidade\n",
        "wageVar = round(var(data$wage),2)\n",
        "wageVar"
      ],
      "metadata": {
        "colab": {
          "base_uri": "https://localhost:8080/",
          "height": 34
        },
        "id": "ICM22GY8fe_0",
        "outputId": "a3accb33-fca6-46ad-c917-574f490d0be5"
      },
      "execution_count": 70,
      "outputs": [
        {
          "output_type": "display_data",
          "data": {
            "text/html": [
              "7.99"
            ],
            "text/markdown": "7.99",
            "text/latex": "7.99",
            "text/plain": [
              "[1] 7.99"
            ]
          },
          "metadata": {}
        }
      ]
    },
    {
      "cell_type": "code",
      "source": [
        "# Desvio Padrão\n",
        "wageSD = round(sd(data$wage),2)\n",
        "wageSD"
      ],
      "metadata": {
        "colab": {
          "base_uri": "https://localhost:8080/",
          "height": 34
        },
        "id": "1sniSzYYgEhf",
        "outputId": "fb108ae6-4469-40df-dc45-6650fb46409c"
      },
      "execution_count": 71,
      "outputs": [
        {
          "output_type": "display_data",
          "data": {
            "text/html": [
              "2.83"
            ],
            "text/markdown": "2.83",
            "text/latex": "2.83",
            "text/plain": [
              "[1] 2.83"
            ]
          },
          "metadata": {}
        }
      ]
    },
    {
      "cell_type": "code",
      "source": [
        "# Coeficiente de variação\n",
        "wageCV = round(((wageSD / wageMean) * 100),2)\n",
        "wageCV"
      ],
      "metadata": {
        "colab": {
          "base_uri": "https://localhost:8080/",
          "height": 34
        },
        "id": "blIOATTshEQ1",
        "outputId": "2d9d6bda-01c3-4324-fdbb-f1c4c775183f"
      },
      "execution_count": 72,
      "outputs": [
        {
          "output_type": "display_data",
          "data": {
            "text/html": [
              "57.52"
            ],
            "text/markdown": "57.52",
            "text/latex": "57.52",
            "text/plain": [
              "[1] 57.52"
            ]
          },
          "metadata": {}
        }
      ]
    },
    {
      "cell_type": "code",
      "source": [
        "# Plotar gráfico de diagrama de caixa da coluna 'wage'\n",
        "boxplot(wageRound, main = \"Boxplot da coluna 'wage'\", ylab = \"Wage\")"
      ],
      "metadata": {
        "colab": {
          "base_uri": "https://localhost:8080/",
          "height": 437
        },
        "id": "IynMUxOoi3sO",
        "outputId": "60ac5f70-2562-41bf-dd94-17adae16b8a0"
      },
      "execution_count": 73,
      "outputs": [
        {
          "output_type": "display_data",
          "data": {
            "text/plain": [
              "Plot with title “Boxplot da coluna 'wage'”"
            ],
            "image/png": "[encoded data removed]"
          },
          "metadata": {
            "image/png": {
              "width": 420,
              "height": 420
            }
          }
        }
      ]
    },
    {
      "cell_type": "code",
      "source": [
        "# Calcular o histograma de frequência da coluna 'wage' com 10 intervalos\n",
        "hist(wageRound, breaks = 10, main = \"Histograma de Frequência da coluna 'wage'\", xlab = \"Wage\")\n"
      ],
      "metadata": {
        "colab": {
          "base_uri": "https://localhost:8080/",
          "height": 437
        },
        "id": "5TrQGYF4jO-c",
        "outputId": "8a110be1-2b54-43bc-88f8-24f5d0d35102"
      },
      "execution_count": 80,
      "outputs": [
        {
          "output_type": "display_data",
          "data": {
            "text/plain": [
              "Plot with title “Histograma de Frequência da coluna 'wage'”"
            ],
            "image/png": "[encoded data removed]"
          },
          "metadata": {
            "image/png": {
              "width": 420,
              "height": 420
            }
          }
        }
      ]
    },
    {
      "cell_type": "code",
      "source": [
        "# Criar intervalos de classe\n",
        "intervalos <- cut(data$wage, breaks = 10)\n",
        "\n",
        "# Contar quantos valores estão em cada intervalo\n",
        "contagem_intervalos <- table(intervalos)"
      ],
      "metadata": {
        "id": "lxvpGbDHtIuB"
      },
      "execution_count": 81,
      "outputs": []
    },
    {
      "cell_type": "code",
      "source": [
        "analise = paste(\"Média: \",wageMean,\"Mediana: \",wageMedian,\"Moda: \",wageMode,\"Variancia: \",wageVar,\"Desvio padrão: \",wageSD,\"Coeficiente de variação: \",wageCV )"
      ],
      "metadata": {
        "id": "yfUGYKzBvYzn"
      },
      "execution_count": 76,
      "outputs": []
    },
    {
      "cell_type": "code",
      "source": [
        "analise"
      ],
      "metadata": {
        "colab": {
          "base_uri": "https://localhost:8080/",
          "height": 34
        },
        "id": "g1tTxITNwz7m",
        "outputId": "82c25bf4-8c5b-449c-a125-27c7e016dcd6"
      },
      "execution_count": 77,
      "outputs": [
        {
          "output_type": "display_data",
          "data": {
            "text/html": [
              "<span style=white-space:pre-wrap>'Média:  4.92 Mediana:  4.36 Moda:  3.98 Variancia:  7.99 Desvio padrão:  2.83 Coeficiente de variação:  57.52'</span>"
            ],
            "text/markdown": "<span style=white-space:pre-wrap>'Média:  4.92 Mediana:  4.36 Moda:  3.98 Variancia:  7.99 Desvio padrão:  2.83 Coeficiente de variação:  57.52'</span>",
            "text/latex": "'Média:  4.92 Mediana:  4.36 Moda:  3.98 Variancia:  7.99 Desvio padrão:  2.83 Coeficiente de variação:  57.52'",
            "text/plain": [
              "[1] \"Média:  4.92 Mediana:  4.36 Moda:  3.98 Variancia:  7.99 Desvio padrão:  2.83 Coeficiente de variação:  57.52\""
            ]
          },
          "metadata": {}
        }
      ]
    },
    {
      "cell_type": "code",
      "source": [
        "contagem_intervalos"
      ],
      "metadata": {
        "colab": {
          "base_uri": "https://localhost:8080/",
          "height": 104
        },
        "id": "da34FAEOw85f",
        "outputId": "ba0ea45a-7e24-4b8d-defe-a621d59936ad"
      },
      "execution_count": 78,
      "outputs": [
        {
          "output_type": "display_data",
          "data": {
            "text/plain": [
              "intervalos\n",
              "(0.739,1.96]  (1.96,3.17]  (3.17,4.38]   (4.38,5.6]   (5.6,6.81]  (6.81,8.02] \n",
              "           6            5            9            5            6            3 \n",
              " (8.02,9.23]  (9.23,10.4]  (10.4,11.7]  (11.7,12.9] \n",
              "           4            0            1            1 "
            ]
          },
          "metadata": {}
        }
      ]
    }
  ]
}